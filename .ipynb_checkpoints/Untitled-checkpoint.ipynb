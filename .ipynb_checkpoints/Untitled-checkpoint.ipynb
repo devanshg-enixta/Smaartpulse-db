{
 "cells": [
  {
   "cell_type": "code",
   "execution_count": 1,
   "metadata": {},
   "outputs": [],
   "source": [
    "import pandas as pd"
   ]
  },
  {
   "cell_type": "code",
   "execution_count": 2,
   "metadata": {},
   "outputs": [],
   "source": [
    "f = pd.read_csv('power_banks_21052018_1.csv.zip_149_output.csv',encoding='utf-8')"
   ]
  },
  {
   "cell_type": "code",
   "execution_count": 3,
   "metadata": {},
   "outputs": [],
   "source": [
    "temp=pd.DataFrame()"
   ]
  },
  {
   "cell_type": "code",
   "execution_count": 4,
   "metadata": {},
   "outputs": [],
   "source": [
    "asp = f.aspect_name.unique()"
   ]
  },
  {
   "cell_type": "code",
   "execution_count": 5,
   "metadata": {},
   "outputs": [],
   "source": [
    "for a in asp:\n",
    "    t = f[f.aspect_name == a]\n",
    "    sent = t.sentiment_type.unique()\n",
    "    for s in sent:\n",
    "        a = t[t.sentiment_type ==s]\n",
    "        if a.shape[0]<75:\n",
    "            a = a.sample(n=a.shape[0])\n",
    "        else:\n",
    "            a = a.sample(n=75) \n",
    "        temp = pd.concat([temp,a])"
   ]
  },
  {
   "cell_type": "code",
   "execution_count": 6,
   "metadata": {},
   "outputs": [],
   "source": [
    "col = f.columns\n",
    "temp.to_csv('Sample_powerbanks_6_01_2018.csv',encoding='utf-8',index=False,columns=col)"
   ]
  },
  {
   "cell_type": "code",
   "execution_count": null,
   "metadata": {},
   "outputs": [],
   "source": []
  }
 ],
 "metadata": {
  "kernelspec": {
   "display_name": "Python 2",
   "language": "python",
   "name": "python2"
  },
  "language_info": {
   "codemirror_mode": {
    "name": "ipython",
    "version": 2
   },
   "file_extension": ".py",
   "mimetype": "text/x-python",
   "name": "python",
   "nbconvert_exporter": "python",
   "pygments_lexer": "ipython2",
   "version": "2.7.10"
  }
 },
 "nbformat": 4,
 "nbformat_minor": 2
}
